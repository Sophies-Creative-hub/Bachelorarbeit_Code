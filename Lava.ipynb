{
 "cells": [
  {
   "cell_type": "code",
   "execution_count": 3,
   "id": "6cefe936-95be-489b-84cd-8af6490bbcae",
   "metadata": {},
   "outputs": [],
   "source": [
    "import os, sys\n",
    "import glob\n",
    "import zipfile\n",
    "import h5py\n",
    "import numpy as np\n",
    "import matplotlib.pyplot as plt\n",
    "import torch\n",
    "import torchvision\n",
    "import torch\n",
    "from torch.utils.data import Dataset, DataLoader\n",
    "\n",
    "# import slayer from lava-dl\n",
    "import lava.lib.dl.slayer as slayer\n",
    "\n",
    "import IPython.display as display\n",
    "from matplotlib import animation"
   ]
  },
  {
   "cell_type": "code",
   "execution_count": 5,
   "id": "f5404fce-750b-4ba2-a39b-1a1f1cbc4ab8",
   "metadata": {},
   "outputs": [
    {
     "name": "stdout",
     "output_type": "stream",
     "text": [
      "2.6.0\n",
      "0.21.0\n"
     ]
    }
   ],
   "source": [
    "import torch\n",
    "import torchvision\n",
    "print(torch.__version__)\n",
    "print(torchvision.__version__)\n"
   ]
  },
  {
   "cell_type": "code",
   "execution_count": 21,
   "id": "63fa7fc0-e13c-45b2-8109-e825d62b4430",
   "metadata": {},
   "outputs": [],
   "source": [
    "!pip install matplotlib --quiet"
   ]
  },
  {
   "cell_type": "code",
   "execution_count": 22,
   "id": "40345292-f203-40c1-ba81-a367294eeab1",
   "metadata": {},
   "outputs": [],
   "source": [
    "!pip install torch --quiet"
   ]
  },
  {
   "cell_type": "code",
   "execution_count": 25,
   "id": "c0f34f12-e88a-49b8-9b02-0a1bbc6b6f2d",
   "metadata": {},
   "outputs": [
    {
     "name": "stdout",
     "output_type": "stream",
     "text": [
      "False\n"
     ]
    }
   ],
   "source": [
    "import torch\n",
    "print(torch.cuda.is_available())\n"
   ]
  },
  {
   "cell_type": "code",
   "execution_count": 27,
   "id": "6563b8f7-3610-476d-ba9a-5e958379780a",
   "metadata": {},
   "outputs": [],
   "source": [
    "from nmnist import augment, NMNISTDataset"
   ]
  },
  {
   "cell_type": "code",
   "execution_count": 35,
   "id": "1886a328-555f-4ea8-bc93-ed1796c42c60",
   "metadata": {},
   "outputs": [],
   "source": [
    "class Network(torch.nn.Module):\n",
    "    def __init__(self):\n",
    "        super(Network, self).__init__()\n",
    "\n",
    "        neuron_params = {\n",
    "                'threshold'     : 1.25,\n",
    "                'current_decay' : 0.25,\n",
    "                'voltage_decay' : 0.03,\n",
    "                'tau_grad'      : 0.03,\n",
    "                'scale_grad'    : 3,\n",
    "                'requires_grad' : True,     \n",
    "            }\n",
    "        neuron_params_drop = {**neuron_params, 'dropout' : slayer.neuron.Dropout(p=0.05),}\n",
    "        \n",
    "        self.blocks = torch.nn.ModuleList([\n",
    "                slayer.block.cuba.Dense(neuron_params_drop, 34*34*2, 512, weight_norm=True, delay=True),\n",
    "                slayer.block.cuba.Dense(neuron_params_drop, 512, 512, weight_norm=True, delay=True),\n",
    "                slayer.block.cuba.Dense(neuron_params, 512, 10, weight_norm=True),\n",
    "            ])\n",
    "    \n",
    "    def forward(self, spike):\n",
    "        for block in self.blocks:\n",
    "            spike = block(spike)\n",
    "        return spike\n",
    "    \n",
    "    def grad_flow(self, path):\n",
    "        # helps monitor the gradient flow\n",
    "        grad = [b.synapse.grad_norm for b in self.blocks if hasattr(b, 'synapse')]\n",
    "\n",
    "        plt.figure()\n",
    "        plt.semilogy(grad)\n",
    "        plt.savefig(path + 'gradFlow.png')\n",
    "        plt.close()\n",
    "\n",
    "        return grad\n",
    "\n",
    "    def export_hdf5(self, filename):\n",
    "        # network export to hdf5 format\n",
    "        h = h5py.File(filename, 'w')\n",
    "        layer = h.create_group('layer')\n",
    "        for i, b in enumerate(self.blocks):\n",
    "            b.export_hdf5(layer.create_group(f'{i}'))"
   ]
  },
  {
   "cell_type": "code",
   "execution_count": 71,
   "id": "06919eda-e7df-4139-8c2a-45b52c081784",
   "metadata": {},
   "outputs": [
    {
     "name": "stderr",
     "output_type": "stream",
     "text": [
      "/Users/sophie/miniconda3/envs/lava_env/lib/python3.10/site-packages/torch/nn/utils/weight_norm.py:143: FutureWarning: `torch.nn.utils.weight_norm` is deprecated in favor of `torch.nn.utils.parametrizations.weight_norm`.\n",
      "  WeightNorm.apply(module, name, dim)\n"
     ]
    },
    {
     "name": "stdout",
     "output_type": "stream",
     "text": [
      "\n",
      "NMNIST dataset is freely available here:\n",
      "https://www.garrickorchard.com/datasets/n-mnist\n",
      "\n",
      "(c) Creative Commons:\n",
      "    Orchard, G.; Cohen, G.; Jayawant, A.; and Thakor, N.\n",
      "    \"Converting Static Image Datasets to Spiking Neuromorphic Datasets Using\n",
      "    Saccades\",\n",
      "    Frontiers in Neuroscience, vol.9, no.437, Oct. 2015\n",
      "\n"
     ]
    }
   ],
   "source": [
    "trained_folder = 'Trained'\n",
    "os.makedirs(trained_folder, exist_ok=True)\n",
    "\n",
    "device = torch.device('cpu')\n",
    "#device = torch.device('cuda') \n",
    "\n",
    "net = Network().to(device)\n",
    "\n",
    "optimizer = torch.optim.Adam(net.parameters(), lr=0.001)\n",
    "\n",
    "training_set = NMNISTDataset(train=True, transform=augment)\n",
    "testing_set  = NMNISTDataset(train=False)\n",
    "\n",
    "train_loader = DataLoader(dataset=training_set, batch_size=32, shuffle=True)\n",
    "test_loader  = DataLoader(dataset=testing_set , batch_size=32, shuffle=True)"
   ]
  },
  {
   "cell_type": "code",
   "execution_count": 41,
   "id": "264eca57-2adb-43f0-8f16-54983f09ba42",
   "metadata": {},
   "outputs": [],
   "source": [
    "for i in range(5):\n",
    "    spike_tensor, label = testing_set[np.random.randint(len(testing_set))]\n",
    "    spike_tensor = spike_tensor.reshape(2, 34, 34, -1)\n",
    "    event = slayer.io.tensor_to_event(spike_tensor.cpu().data.numpy())\n",
    "    anim = event.anim(plt.figure(figsize=(5, 5)), frame_rate=240)\n",
    "    anim.save(f'gifs/input{i}.gif', animation.PillowWriter(fps=24), dpi=300)"
   ]
  },
  {
   "cell_type": "code",
   "execution_count": 43,
   "id": "d29c82bb-e617-4bc0-a933-817e5ef96719",
   "metadata": {},
   "outputs": [
    {
     "data": {
      "text/html": [
       "<table><tr><td> <img src=\"gifs/input0.gif\" alt=\"Drawing\" style=\"height: 250px;\"/> </td> <td> <img src=\"gifs/input1.gif\" alt=\"Drawing\" style=\"height: 250px;\"/> </td> <td> <img src=\"gifs/input2.gif\" alt=\"Drawing\" style=\"height: 250px;\"/> </td> <td> <img src=\"gifs/input3.gif\" alt=\"Drawing\" style=\"height: 250px;\"/> </td> <td> <img src=\"gifs/input4.gif\" alt=\"Drawing\" style=\"height: 250px;\"/> </td></tr></table>"
      ],
      "text/plain": [
       "<IPython.core.display.HTML object>"
      ]
     },
     "execution_count": 43,
     "metadata": {},
     "output_type": "execute_result"
    }
   ],
   "source": [
    "gif_td = lambda gif: f'<td> <img src=\"{gif}\" alt=\"Drawing\" style=\"height: 250px;\"/> </td>'\n",
    "header = '<table><tr>'\n",
    "images = ' '.join([gif_td(f'gifs/input{i}.gif') for i in range(5)])\n",
    "footer = '</tr></table>'\n",
    "display.HTML(header + images + footer)"
   ]
  },
  {
   "cell_type": "code",
   "execution_count": 45,
   "id": "de17e89e-acbf-452d-bc7b-dc79ae726f0f",
   "metadata": {},
   "outputs": [],
   "source": [
    "error = slayer.loss.SpikeRate(true_rate=0.2, false_rate=0.03, reduction='sum').to(device)\n"
   ]
  },
  {
   "cell_type": "code",
   "execution_count": 47,
   "id": "9182d5c5-9fa8-4c7f-8aad-7258d853568c",
   "metadata": {},
   "outputs": [],
   "source": [
    "stats = slayer.utils.LearningStats()\n",
    "assistant = slayer.utils.Assistant(net, error, optimizer, stats, classifier=slayer.classifier.Rate.predict)"
   ]
  },
  {
   "cell_type": "code",
   "execution_count": 59,
   "id": "24dc746f-ce15-492f-bc3f-750cceec262d",
   "metadata": {},
   "outputs": [
    {
     "name": "stdout",
     "output_type": "stream",
     "text": [
      "[Epoch 1/60]\n"
     ]
    },
    {
     "name": "stderr",
     "output_type": "stream",
     "text": [
      "                                                                                                    \r"
     ]
    },
    {
     "name": "stdout",
     "output_type": "stream",
     "text": [
      "[Epoch 1/60]\n",
      "Train loss =     0.24223 (min =     0.39462)     accuracy = 0.90708 (max = 0.80144)  \n",
      "Test  loss =     0.16742 (min =     0.17977)     accuracy = 0.94370 (max = 0.94100) \n",
      "[Epoch 2/60]\n"
     ]
    },
    {
     "name": "stderr",
     "output_type": "stream",
     "text": [
      "                                                                                                    \r"
     ]
    },
    {
     "name": "stdout",
     "output_type": "stream",
     "text": [
      "[Epoch 2/60]\n",
      "Train loss =     0.21201 (min =     0.24223)     accuracy = 0.92172 (max = 0.90708)  \n",
      "Test  loss =     0.14761 (min =     0.16742)     accuracy = 0.94950 (max = 0.94370) \n",
      "[Epoch 3/60]\n"
     ]
    },
    {
     "name": "stderr",
     "output_type": "stream",
     "text": [
      "                                                                                                    \r"
     ]
    },
    {
     "name": "stdout",
     "output_type": "stream",
     "text": [
      "[Epoch 3/60]\n",
      "Train loss =     0.19403 (min =     0.21201)     accuracy = 0.92907 (max = 0.92172)  \n",
      "Test  loss =     0.12659 (min =     0.14761)     accuracy = 0.95800 (max = 0.94950) \n",
      "[Epoch 4/60]\n"
     ]
    },
    {
     "name": "stderr",
     "output_type": "stream",
     "text": [
      "                                                                                                    \r"
     ]
    },
    {
     "name": "stdout",
     "output_type": "stream",
     "text": [
      "[Epoch 4/60]\n",
      "Train loss =     0.17885 (min =     0.19403)     accuracy = 0.93710 (max = 0.92907)  \n",
      "Test  loss =     0.11992 (min =     0.12659)     accuracy = 0.96430 (max = 0.95800) \n",
      "[Epoch 5/60]\n"
     ]
    },
    {
     "name": "stderr",
     "output_type": "stream",
     "text": [
      "                                                                                                    \r"
     ]
    },
    {
     "name": "stdout",
     "output_type": "stream",
     "text": [
      "[Epoch 5/60]\n",
      "Train loss =     0.16892 (min =     0.17885)     accuracy = 0.94158 (max = 0.93710)  \n",
      "Test  loss =     0.11197 (min =     0.11992)     accuracy = 0.96500 (max = 0.96430) \n",
      "[Epoch 6/60]\n"
     ]
    },
    {
     "name": "stderr",
     "output_type": "stream",
     "text": [
      "                                                                                                    \r"
     ]
    },
    {
     "name": "stdout",
     "output_type": "stream",
     "text": [
      "[Epoch 6/60]\n",
      "Train loss =     0.16326 (min =     0.16892)     accuracy = 0.94492 (max = 0.94158)  \n",
      "Test  loss =     0.10846 (min =     0.11197)     accuracy = 0.96570 (max = 0.96500) \n",
      "[Epoch 7/60]\n"
     ]
    },
    {
     "name": "stderr",
     "output_type": "stream",
     "text": [
      "                                                                                                    \r"
     ]
    },
    {
     "name": "stdout",
     "output_type": "stream",
     "text": [
      "[Epoch 7/60]\n",
      "Train loss =     0.15668 (min =     0.16326)     accuracy = 0.94708 (max = 0.94492)  \n",
      "Test  loss =     0.10306 (min =     0.10846)     accuracy = 0.97050 (max = 0.96570) \n",
      "[Epoch 8/60]\n"
     ]
    },
    {
     "name": "stderr",
     "output_type": "stream",
     "text": [
      "                                                                                                    \r"
     ]
    },
    {
     "name": "stdout",
     "output_type": "stream",
     "text": [
      "[Epoch 8/60]\n",
      "Train loss =     0.15263 (min =     0.15668)     accuracy = 0.94962 (max = 0.94708)  \n",
      "Test  loss =     0.10405 (min =     0.10306)     accuracy = 0.96810 (max = 0.97050) \n",
      "[Epoch 9/60]\n"
     ]
    },
    {
     "name": "stderr",
     "output_type": "stream",
     "text": [
      "                                                                                                    \r"
     ]
    },
    {
     "name": "stdout",
     "output_type": "stream",
     "text": [
      "[Epoch 9/60]\n",
      "Train loss =     0.14994 (min =     0.15263)     accuracy = 0.95117 (max = 0.94962)  \n",
      "Test  loss =     0.09831 (min =     0.10306)     accuracy = 0.97030 (max = 0.97050) \n",
      "[Epoch 10/60]\n"
     ]
    },
    {
     "name": "stderr",
     "output_type": "stream",
     "text": [
      "                                                                                                    \r"
     ]
    },
    {
     "name": "stdout",
     "output_type": "stream",
     "text": [
      "[Epoch 10/60]\n",
      "Train loss =     0.14711 (min =     0.14994)     accuracy = 0.95137 (max = 0.95117)  \n",
      "Test  loss =     0.09908 (min =     0.09831)     accuracy = 0.97430 (max = 0.97050) \n",
      "[Epoch 11/60]\n"
     ]
    },
    {
     "name": "stderr",
     "output_type": "stream",
     "text": [
      "                                                                                                    "
     ]
    },
    {
     "name": "stdout",
     "output_type": "stream",
     "text": [
      "[Epoch 11/60]\n",
      "Train loss =     0.14413 (min =     0.14711)     accuracy = 0.95352 (max = 0.95137)  \n",
      "Test  loss =     0.09315 (min =     0.09831)     accuracy = 0.97420 (max = 0.97430) \n",
      "Early stopping after epoch 11 due to no improvement.\n"
     ]
    },
    {
     "name": "stderr",
     "output_type": "stream",
     "text": [
      "\r"
     ]
    }
   ],
   "source": [
    "from tqdm import tqdm\n",
    "import torch\n",
    "\n",
    "# Parameter für Early Stopping\n",
    "patience = 10  # Anzahl der Epochen, ohne Verbesserung, bevor der Training gestoppt wird\n",
    "best_accuracy = 0  # Die beste Testgenauigkeit\n",
    "epochs_without_improvement = 0  # Zähler für Epochen ohne Verbesserung\n",
    "\n",
    "epochs = 60\n",
    "\n",
    "for epoch in range(epochs):\n",
    "    print(f'[Epoch {epoch+1}/{epochs}]')\n",
    "\n",
    "    # Training loop mit Progress Bar\n",
    "    train_progress = tqdm(enumerate(train_loader), total=len(train_loader), desc=\"Training\", leave=False)\n",
    "    for i, (input, label) in train_progress:\n",
    "        output = assistant.train(input, label)\n",
    "\n",
    "    # Test loop mit Progress Bar\n",
    "    test_progress = tqdm(enumerate(test_loader), total=len(test_loader), desc=\"Testing\", leave=False)\n",
    "    for i, (input, label) in test_progress:\n",
    "        output = assistant.test(input, label)\n",
    "\n",
    "    # Epoch-Zwischenstand\n",
    "    stats_str = str(stats).replace(\"| \", \"\\n\")\n",
    "    print(f'[Epoch {epoch+1}/{epochs}]\\n{stats_str}')\n",
    "\n",
    "    # Überprüfen, ob sich die Genauigkeit verbessert hat\n",
    "    if stats.testing.best_accuracy > best_accuracy:\n",
    "        best_accuracy = stats.testing.best_accuracy\n",
    "        torch.save(net.state_dict(), trained_folder + '/network.pt')  # Bestes Modell speichern\n",
    "        epochs_without_improvement = 0  # Reset Zähler\n",
    "    else:\n",
    "        epochs_without_improvement += 1  # Zähler für keine Verbesserung erhöhen\n",
    "\n",
    "    # Wenn die Leistung über \"patience\" Epochen nicht besser wird, beende das Training\n",
    "    if epochs_without_improvement >= patience:\n",
    "        print(f\"Early stopping after epoch {epoch+1} due to no improvement.\")\n",
    "        break\n",
    "\n",
    "    stats.update()\n",
    "    stats.save(trained_folder + '/')\n",
    "    net.grad_flow(trained_folder + '/')\n"
   ]
  },
  {
   "cell_type": "code",
   "execution_count": null,
   "id": "3ef6dce8-42b9-4acc-a998-dfb5effdba5c",
   "metadata": {},
   "outputs": [
    {
     "data": {
      "image/png": "[encoded data removed]",
      "text/plain": [
       "<Figure size 1500x500 with 1 Axes>"
      ]
     },
     "metadata": {},
     "output_type": "display_data"
    },
    {
     "data": {
      "image/png": "[encoded data removed]",
      "text/plain": [
       "<Figure size 1500x500 with 1 Axes>"
      ]
     },
     "metadata": {},
     "output_type": "display_data"
    }
   ],
   "source": [
    "stats.plot(figsize=(15, 5))"
   ]
  },
  {
   "cell_type": "code",
   "execution_count": 63,
   "id": "44130de4-8d39-4982-8172-5fb2e787f847",
   "metadata": {},
   "outputs": [],
   "source": [
    "net.load_state_dict(torch.load(trained_folder + '/network.pt'))\n",
    "net.export_hdf5(trained_folder + '/network.net')"
   ]
  },
  {
   "cell_type": "code",
   "execution_count": 65,
   "id": "56c28a9b-eae2-4226-9187-33f7e5f268e8",
   "metadata": {},
   "outputs": [],
   "source": [
    "output = net(input.to(device))\n",
    "for i in range(5):\n",
    "    inp_event = slayer.io.tensor_to_event(input[i].cpu().data.numpy().reshape(2, 34, 34, -1))\n",
    "    out_event = slayer.io.tensor_to_event(output[i].cpu().data.numpy().reshape(1, 10, -1))\n",
    "    inp_anim = inp_event.anim(plt.figure(figsize=(5, 5)), frame_rate=240)\n",
    "    out_anim = out_event.anim(plt.figure(figsize=(10, 5)), frame_rate=240)\n",
    "    inp_anim.save(f'gifs/inp{i}.gif', animation.PillowWriter(fps=24), dpi=300)\n",
    "    out_anim.save(f'gifs/out{i}.gif', animation.PillowWriter(fps=24), dpi=300)"
   ]
  },
  {
   "cell_type": "code",
   "execution_count": 66,
   "id": "2d515f66-c98f-48a0-9bb3-209f46fbe6c4",
   "metadata": {},
   "outputs": [
    {
     "data": {
      "text/html": [
       "<table><tr><td align=\"center\"><b>Input</b></td><td><b>Output</b></td></tr><tr><td> <img src=\"gifs/inp0.gif\" alt=\"Drawing\" style=\"height: 250px;\"/> </td><td> <img src=\"gifs/out0.gif\" alt=\"Drawing\" style=\"height: 250px;\"/> </td></tr><tr><td> <img src=\"gifs/inp1.gif\" alt=\"Drawing\" style=\"height: 250px;\"/> </td><td> <img src=\"gifs/out1.gif\" alt=\"Drawing\" style=\"height: 250px;\"/> </td></tr><tr><td> <img src=\"gifs/inp2.gif\" alt=\"Drawing\" style=\"height: 250px;\"/> </td><td> <img src=\"gifs/out2.gif\" alt=\"Drawing\" style=\"height: 250px;\"/> </td></tr><tr><td> <img src=\"gifs/inp3.gif\" alt=\"Drawing\" style=\"height: 250px;\"/> </td><td> <img src=\"gifs/out3.gif\" alt=\"Drawing\" style=\"height: 250px;\"/> </td></tr><tr><td> <img src=\"gifs/inp4.gif\" alt=\"Drawing\" style=\"height: 250px;\"/> </td><td> <img src=\"gifs/out4.gif\" alt=\"Drawing\" style=\"height: 250px;\"/> </td></tr></tr></table>"
      ],
      "text/plain": [
       "<IPython.core.display.HTML object>"
      ]
     },
     "execution_count": 66,
     "metadata": {},
     "output_type": "execute_result"
    }
   ],
   "source": [
    "html = '<table>'\n",
    "html += '<tr><td align=\"center\"><b>Input</b></td><td><b>Output</b></td></tr>'\n",
    "for i in range(5):\n",
    "    html += '<tr>'\n",
    "    html += gif_td(f'gifs/inp{i}.gif')\n",
    "    html += gif_td(f'gifs/out{i}.gif')\n",
    "    html += '</tr>'\n",
    "html += '</tr></table>'\n",
    "display.HTML(html)"
   ]
  },
  {
   "cell_type": "code",
   "execution_count": null,
   "id": "ba376263-cdf2-4ebd-9a62-f3d8943856e9",
   "metadata": {},
   "outputs": [],
   "source": []
  }
 ],
 "metadata": {
  "kernelspec": {
   "display_name": "Python [conda env:lava_env]",
   "language": "python",
   "name": "conda-env-lava_env-py"
  },
  "language_info": {
   "codemirror_mode": {
    "name": "ipython",
    "version": 3
   },
   "file_extension": ".py",
   "mimetype": "text/x-python",
   "name": "python",
   "nbconvert_exporter": "python",
   "pygments_lexer": "ipython3",
   "version": "3.10.16"
  }
 },
 "nbformat": 4,
 "nbformat_minor": 5
}
